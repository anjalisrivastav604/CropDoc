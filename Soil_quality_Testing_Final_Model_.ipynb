{
  "nbformat": 4,
  "nbformat_minor": 0,
  "metadata": {
    "colab": {
      "provenance": [],
      "include_colab_link": true
    },
    "kernelspec": {
      "name": "python3",
      "display_name": "Python 3"
    },
    "language_info": {
      "name": "python"
    }
  },
  "cells": [
    {
      "cell_type": "markdown",
      "metadata": {
        "id": "view-in-github",
        "colab_type": "text"
      },
      "source": [
        "<a href=\"https://colab.research.google.com/github/anjalisrivastav604/CropDoc/blob/anjalisrivastav604-patch-1/Soil_quality_Testing_Final_Model_.ipynb\" target=\"_parent\"><img src=\"https://colab.research.google.com/assets/colab-badge.svg\" alt=\"Open In Colab\"/></a>"
      ]
    },
    {
      "cell_type": "markdown",
      "source": [
        "Step 1: Load and Inspect the Dataset"
      ],
      "metadata": {
        "id": "oe1lqQObnFcR"
      }
    },
    {
      "cell_type": "code",
      "execution_count": null,
      "metadata": {
        "colab": {
          "base_uri": "https://localhost:8080/"
        },
        "id": "ttcf9StA33KZ",
        "outputId": "60785c0f-706f-4d9c-b8ce-56f80322678a"
      },
      "outputs": [
        {
          "output_type": "stream",
          "name": "stdout",
          "text": [
            "Drive already mounted at /content/drive; to attempt to forcibly remount, call drive.mount(\"/content/drive\", force_remount=True).\n",
            "First 5 rows of the dataset:\n",
            "   ID's  Sand %  Clay %  Silt %     pH  EC mS/cm    O.M. %  CACO3 %  \\\n",
            "0     1    42.0    38.0    20.0  5.162     0.274  3.783414     0.00   \n",
            "1     2    54.0    26.0    20.0  6.071     0.355  1.451688     0.00   \n",
            "2     3    28.0    36.0    36.0  6.921     0.675  1.767599     0.40   \n",
            "3     4    58.0    20.0    22.0  7.704     0.355  0.718322     6.80   \n",
            "4     5    33.2    41.2    25.6  7.609     0.392  0.996625     4.39   \n",
            "\n",
            "   N_NO3 ppm      P ppm  K ppm   Mg ppm  Fe ppm  Zn ppm  Mn ppm  Cu ppm  B ppm  \n",
            "0  14.462366  18.608840   147.0  1115.0   91.32   0.894   27.06   1.768   0.40  \n",
            "1  14.587814  32.742137   180.0  1055.0   60.04   3.660   17.58   1.684   0.41  \n",
            "2  14.910394  19.024525   183.0  1215.0   61.24   3.060   18.00   1.840   0.46  \n",
            "3   4.211470   6.276846   116.0   327.0   19.54   1.640    5.04   0.844   0.50  \n",
            "4   6.111111   6.553970   228.0   939.0   25.84   0.180    7.16   1.216   0.40  \n",
            "\n",
            "Missing values in each column:\n",
            "ID's         0\n",
            "Sand %       0\n",
            "Clay %       0\n",
            "Silt %       0\n",
            "pH           0\n",
            "EC mS/cm     0\n",
            "O.M. %       0\n",
            "CACO3 %      0\n",
            "N_NO3 ppm    0\n",
            "P ppm        0\n",
            "K ppm        0\n",
            "Mg ppm       0\n",
            "Fe ppm       0\n",
            "Zn ppm       0\n",
            "Mn ppm       1\n",
            "Cu ppm       0\n",
            "B ppm        0\n",
            "dtype: int64\n",
            "\n",
            "Basic statistics of the dataset:\n",
            "              ID's       Sand %       Clay %       Silt %           pH  \\\n",
            "count  4000.000000  4000.000000  4000.000000  4000.000000  4000.000000   \n",
            "mean   2000.500000    38.207933    39.031622    22.760347     6.625049   \n",
            "std    1154.844867    20.412997    19.751146    12.579279     0.580004   \n",
            "min       1.000000     0.720000     0.510000     0.580000     4.490000   \n",
            "25%    1000.750000    22.000000    23.537500    12.700000     6.250000   \n",
            "50%    2000.500000    36.000000    37.790000    21.860000     6.570000   \n",
            "75%    3000.250000    52.567500    52.472500    31.300000     6.920000   \n",
            "max    4000.000000    96.000000    91.230000    73.760000     8.200000   \n",
            "\n",
            "          EC mS/cm       O.M. %      CACO3 %    N_NO3 ppm        P ppm  \\\n",
            "count  4000.000000  4000.000000  4000.000000  4000.000000  4000.000000   \n",
            "mean      0.531397     2.611432     7.350583    26.555896    21.556066   \n",
            "std       0.219567     0.933964     7.534643    12.537061    10.725189   \n",
            "min       0.134000     0.370000     0.000000     0.180000     1.070000   \n",
            "25%       0.386000     1.910000     2.430000    17.170000    13.910000   \n",
            "50%       0.502000     2.490000     5.510000    26.875000    21.720000   \n",
            "75%       0.658000     3.200000     9.640000    36.040000    29.100000   \n",
            "max       5.621000     5.000000    77.600000   120.640000   152.420000   \n",
            "\n",
            "            K ppm        Mg ppm       Fe ppm       Zn ppm       Mn ppm  \\\n",
            "count  4000.000000  4000.000000  4000.000000  4000.000000  3999.000000   \n",
            "mean    235.936900   841.459887    58.518412     2.151678    23.169932   \n",
            "std     115.514462   434.040803    27.868848     1.249926    12.341733   \n",
            "min      31.000000    60.000000     4.630000     0.100000     2.380000   \n",
            "25%     162.577500   528.850000    37.647500     1.107500    13.560000   \n",
            "50%     220.615000   823.025000    57.695000     2.100000    21.780000   \n",
            "75%     286.767500  1070.180000    77.870000     2.990000    31.475000   \n",
            "max    1665.000000  4836.000000   187.940000     7.090000   189.210000   \n",
            "\n",
            "            Cu ppm        B ppm  \n",
            "count  4000.000000  4000.000000  \n",
            "mean      1.837034     0.787737  \n",
            "std       1.276337     0.466005  \n",
            "min       0.210000     0.100000  \n",
            "25%       1.170000     0.410000  \n",
            "50%       1.640000     0.690000  \n",
            "75%       2.310000     1.100000  \n",
            "max      33.910000     2.000000  \n",
            "\n",
            "Column names and data types:\n",
            "ID's           int64\n",
            "Sand %       float64\n",
            "Clay %       float64\n",
            "Silt %       float64\n",
            "pH           float64\n",
            "EC mS/cm     float64\n",
            "O.M. %       float64\n",
            "CACO3 %      float64\n",
            "N_NO3 ppm    float64\n",
            "P ppm        float64\n",
            "K ppm        float64\n",
            "Mg ppm       float64\n",
            "Fe ppm       float64\n",
            "Zn ppm       float64\n",
            "Mn ppm       float64\n",
            "Cu ppm       float64\n",
            "B ppm        float64\n",
            "dtype: object\n",
            "First 5 rows of the dataset:\n",
            "   ID's  Sand %  Clay %  Silt %     pH  EC mS/cm    O.M. %  CACO3 %  \\\n",
            "0     1    42.0    38.0    20.0  5.162     0.274  3.783414     0.00   \n",
            "1     2    54.0    26.0    20.0  6.071     0.355  1.451688     0.00   \n",
            "2     3    28.0    36.0    36.0  6.921     0.675  1.767599     0.40   \n",
            "3     4    58.0    20.0    22.0  7.704     0.355  0.718322     6.80   \n",
            "4     5    33.2    41.2    25.6  7.609     0.392  0.996625     4.39   \n",
            "\n",
            "   N_NO3 ppm      P ppm  K ppm   Mg ppm  Fe ppm  Zn ppm  Mn ppm  Cu ppm  B ppm  \n",
            "0  14.462366  18.608840   147.0  1115.0   91.32   0.894   27.06   1.768   0.40  \n",
            "1  14.587814  32.742137   180.0  1055.0   60.04   3.660   17.58   1.684   0.41  \n",
            "2  14.910394  19.024525   183.0  1215.0   61.24   3.060   18.00   1.840   0.46  \n",
            "3   4.211470   6.276846   116.0   327.0   19.54   1.640    5.04   0.844   0.50  \n",
            "4   6.111111   6.553970   228.0   939.0   25.84   0.180    7.16   1.216   0.40  \n",
            "\n",
            "Missing values in each column:\n",
            "ID's         0\n",
            "Sand %       0\n",
            "Clay %       0\n",
            "Silt %       0\n",
            "pH           0\n",
            "EC mS/cm     0\n",
            "O.M. %       0\n",
            "CACO3 %      0\n",
            "N_NO3 ppm    0\n",
            "P ppm        0\n",
            "K ppm        0\n",
            "Mg ppm       0\n",
            "Fe ppm       0\n",
            "Zn ppm       0\n",
            "Mn ppm       1\n",
            "Cu ppm       0\n",
            "B ppm        0\n",
            "dtype: int64\n",
            "\n",
            "Basic statistics of the dataset:\n",
            "              ID's       Sand %       Clay %       Silt %           pH  \\\n",
            "count  4000.000000  4000.000000  4000.000000  4000.000000  4000.000000   \n",
            "mean   2000.500000    38.207933    39.031622    22.760347     6.625049   \n",
            "std    1154.844867    20.412997    19.751146    12.579279     0.580004   \n",
            "min       1.000000     0.720000     0.510000     0.580000     4.490000   \n",
            "25%    1000.750000    22.000000    23.537500    12.700000     6.250000   \n",
            "50%    2000.500000    36.000000    37.790000    21.860000     6.570000   \n",
            "75%    3000.250000    52.567500    52.472500    31.300000     6.920000   \n",
            "max    4000.000000    96.000000    91.230000    73.760000     8.200000   \n",
            "\n",
            "          EC mS/cm       O.M. %      CACO3 %    N_NO3 ppm        P ppm  \\\n",
            "count  4000.000000  4000.000000  4000.000000  4000.000000  4000.000000   \n",
            "mean      0.531397     2.611432     7.350583    26.555896    21.556066   \n",
            "std       0.219567     0.933964     7.534643    12.537061    10.725189   \n",
            "min       0.134000     0.370000     0.000000     0.180000     1.070000   \n",
            "25%       0.386000     1.910000     2.430000    17.170000    13.910000   \n",
            "50%       0.502000     2.490000     5.510000    26.875000    21.720000   \n",
            "75%       0.658000     3.200000     9.640000    36.040000    29.100000   \n",
            "max       5.621000     5.000000    77.600000   120.640000   152.420000   \n",
            "\n",
            "            K ppm        Mg ppm       Fe ppm       Zn ppm       Mn ppm  \\\n",
            "count  4000.000000  4000.000000  4000.000000  4000.000000  3999.000000   \n",
            "mean    235.936900   841.459887    58.518412     2.151678    23.169932   \n",
            "std     115.514462   434.040803    27.868848     1.249926    12.341733   \n",
            "min      31.000000    60.000000     4.630000     0.100000     2.380000   \n",
            "25%     162.577500   528.850000    37.647500     1.107500    13.560000   \n",
            "50%     220.615000   823.025000    57.695000     2.100000    21.780000   \n",
            "75%     286.767500  1070.180000    77.870000     2.990000    31.475000   \n",
            "max    1665.000000  4836.000000   187.940000     7.090000   189.210000   \n",
            "\n",
            "            Cu ppm        B ppm  \n",
            "count  4000.000000  4000.000000  \n",
            "mean      1.837034     0.787737  \n",
            "std       1.276337     0.466005  \n",
            "min       0.210000     0.100000  \n",
            "25%       1.170000     0.410000  \n",
            "50%       1.640000     0.690000  \n",
            "75%       2.310000     1.100000  \n",
            "max      33.910000     2.000000  \n",
            "\n",
            "Column names and data types:\n",
            "ID's           int64\n",
            "Sand %       float64\n",
            "Clay %       float64\n",
            "Silt %       float64\n",
            "pH           float64\n",
            "EC mS/cm     float64\n",
            "O.M. %       float64\n",
            "CACO3 %      float64\n",
            "N_NO3 ppm    float64\n",
            "P ppm        float64\n",
            "K ppm        float64\n",
            "Mg ppm       float64\n",
            "Fe ppm       float64\n",
            "Zn ppm       float64\n",
            "Mn ppm       float64\n",
            "Cu ppm       float64\n",
            "B ppm        float64\n",
            "dtype: object\n"
          ]
        }
      ],
      "source": [
        "import pandas as pd\n",
        "from google.colab import drive\n",
        "drive.mount('/content/drive')\n",
        "import os\n",
        "\n",
        "import pandas as pd\n",
        "\n",
        "# Load the dataset (replace 'soil_data.csv' with your actual file path)\n",
        "# Assuming tab-separated based on the sample you provided\n",
        "data = pd.read_excel(\"/content/drive/MyDrive/CropDoc/backends/models/SOIL testing data (1).xlsx\")\n",
        "\n",
        "# Display the first few rows to inspect the data\n",
        "print(\"First 5 rows of the dataset:\")\n",
        "print(data.head())\n",
        "\n",
        "# Check for missing values in each column\n",
        "print(\"\\nMissing values in each column:\")\n",
        "print(data.isnull().sum())\n",
        "\n",
        "# Display basic statistics (min, max, mean, etc.) for numerical columns\n",
        "print(\"\\nBasic statistics of the dataset:\")\n",
        "print(data.describe())\n",
        "\n",
        "# Optional: Display column names and data types\n",
        "print(\"\\nColumn names and data types:\")\n",
        "print(data.dtypes)\n",
        "print(\"First 5 rows of the dataset:\")\n",
        "print(data.head())\n",
        "\n",
        "# Check for missing values in each column\n",
        "print(\"\\nMissing values in each column:\")\n",
        "print(data.isnull().sum())\n",
        "\n",
        "# Display basic statistics (min, max, mean, etc.) for numerical columns\n",
        "print(\"\\nBasic statistics of the dataset:\")\n",
        "print(data.describe())\n",
        "\n",
        "# Optional: Display column names and data types\n",
        "print(\"\\nColumn names and data types:\")\n",
        "print(data.dtypes)"
      ]
    },
    {
      "cell_type": "code",
      "source": [
        "from google.colab import drive\n",
        "drive.mount('/content/drive')"
      ],
      "metadata": {
        "id": "Ur0D_2BXKxdv"
      },
      "execution_count": null,
      "outputs": []
    },
    {
      "cell_type": "markdown",
      "source": [
        "Step 2: Define Soil Quality Labels"
      ],
      "metadata": {
        "id": "lKf3LY49nKQK"
      }
    },
    {
      "cell_type": "code",
      "source": [
        "import pandas as pd\n",
        "\n",
        "# Assuming 'data' is the DataFrame from Step 1\n",
        "# If not loaded yet, uncomment and adjust the following line:\n",
        "# data = pd.read_csv('soil_data.csv', delimiter='\\t')\n",
        "\n",
        "# Define the labeling function\n",
        "def predict_soil_quality(data):\n",
        "    score = 0\n",
        "\n",
        "    # pH: Optimal range for most crops is 6.0–7.5\n",
        "    if 6.0 <= row['pH'] <= 7.5:\n",
        "        score += 0.25  # High weight since pH is critical\n",
        "    elif 5.5 <= row['pH'] < 6.0 or 7.5 < row['pH'] <= 8.0:\n",
        "        score += 0.15  # Suboptimal but manageable\n",
        "    # Below 5.5 or above 8.0 gets no points (poor)\n",
        "\n",
        "    # EC: Low salinity is better (<1 mS/cm)\n",
        "    if row['EC mS/cm'] < 1:\n",
        "        score += 0.15\n",
        "    elif 1 <= row['EC mS/cm'] <= 2:\n",
        "        score += 0.05\n",
        "    # Above 2 mS/cm gets no points (poor)\n",
        "\n",
        "    # Organic Matter: Higher is better for fertility\n",
        "    if row['O.M. %'] > 2:\n",
        "        score += 0.2  # High weight for fertility\n",
        "    elif 1 <= row['O.M. %'] <= 2:\n",
        "        score += 0.1\n",
        "    # Below 1% gets no points (poor)\n",
        "\n",
        "    # Macronutrients: N, P, K are key for plant growth\n",
        "    if row['N_NO3 ppm'] > 10:\n",
        "        score += 0.1\n",
        "    if row['P ppm'] > 15:\n",
        "        score += 0.1\n",
        "    if row['K ppm '] > 150:\n",
        "        score += 0.1\n",
        "\n",
        "    # Texture: Balanced loam (20–50% each) is ideal\n",
        "    if 20 <= row['Sand %'] <= 50 and 20 <= row['Clay %'] <= 50:\n",
        "        score += 0.1\n",
        "\n",
        "    # Classify based on total score (max = 1.0)\n",
        "    if score >= 0.7:\n",
        "        return \"Good\"\n",
        "    elif score >= 0.4:\n",
        "        return \"Moderate\"\n",
        "    else:\n",
        "        return \"Poor\"# backend/models/soil_model.py\n",
        "\n",
        "\n",
        "\n",
        "# Apply the labeling function to create the 'Quality' column\n",
        "data['Quality'] = data.apply(label_soil_quality, axis=1)\n",
        "\n",
        "# Encode the labels numerically for ML (Good=2, Moderate=1, Poor=0)\n",
        "data['Quality'] = data['Quality'].map({\"Good\": 2, \"Moderate\": 1, \"Poor\": 0})\n",
        "\n",
        "# Verify the distribution of labels\n",
        "print(\"Distribution of soil quality labels:\")\n",
        "print(data['Quality'].value_counts())\n",
        "\n",
        "# Optional: Display a few rows to check the labels\n",
        "print(\"\\nSample rows with quality labels:\")\n",
        "print(data[['ID\\'s', 'pH', 'EC mS/cm', 'O.M. %', 'N_NO3 ppm', 'P ppm', 'K ppm ', 'Sand %', 'Clay %', 'Quality']].head())"
      ],
      "metadata": {
        "colab": {
          "base_uri": "https://localhost:8080/"
        },
        "id": "GhR0Kk7C6SQU",
        "outputId": "0605a83e-2b3a-4239-9996-ac440b7cdf17"
      },
      "execution_count": null,
      "outputs": [
        {
          "output_type": "stream",
          "name": "stdout",
          "text": [
            "Distribution of soil quality labels:\n",
            "Quality\n",
            "2    3531\n",
            "1     438\n",
            "0      31\n",
            "Name: count, dtype: int64\n",
            "\n",
            "Sample rows with quality labels:\n",
            "   ID's     pH  EC mS/cm    O.M. %  N_NO3 ppm      P ppm  K ppm   Sand %  \\\n",
            "0     1  5.162     0.274  3.783414  14.462366  18.608840   147.0    42.0   \n",
            "1     2  6.071     0.355  1.451688  14.587814  32.742137   180.0    54.0   \n",
            "2     3  6.921     0.675  1.767599  14.910394  19.024525   183.0    28.0   \n",
            "3     4  7.704     0.355  0.718322   4.211470   6.276846   116.0    58.0   \n",
            "4     5  7.609     0.392  0.996625   6.111111   6.553970   228.0    33.2   \n",
            "\n",
            "   Clay %  Quality  \n",
            "0    38.0        1  \n",
            "1    26.0        2  \n",
            "2    36.0        2  \n",
            "3    20.0        0  \n",
            "4    41.2        1  \n"
          ]
        }
      ]
    },
    {
      "cell_type": "markdown",
      "source": [
        "Step 3: Preprocess the Data"
      ],
      "metadata": {
        "id": "peAoShFpnXwR"
      }
    },
    {
      "cell_type": "code",
      "source": [
        "import pandas as pd\n",
        "from sklearn.preprocessing import StandardScaler\n",
        "\n",
        "# Assuming 'data' is the DataFrame from Steps 1 and 2\n",
        "# If not loaded and labeled yet, uncomment and adjust these lines:\n",
        "# data = pd.read_csv('soil_data.csv', delimiter='\\t')\n",
        "# (Add Step 2 labeling code here if needed)\n",
        "\n",
        "# Step 3: Preprocess the Data\n",
        "\n",
        "# Select features (drop 'ID's' and 'Quality')\n",
        "X = data.drop(columns=[\"ID's\", \"Quality\"])\n",
        "y = data['Quality']\n",
        "\n",
        "# Check for missing values and impute if necessary\n",
        "print(\"Missing values before preprocessing:\")\n",
        "print(X.isnull().sum())\n",
        "if X.isnull().any().any():\n",
        "    X = X.fillna(X.mean())  # Impute with mean for simplicity\n",
        "    print(\"\\nMissing values filled with column means.\")\n",
        "else:\n",
        "    print(\"\\nNo missing values found.\")\n",
        "\n",
        "# Scale the features\n",
        "scaler = StandardScaler()\n",
        "X_scaled = scaler.fit_transform(X)\n",
        "\n",
        "# Convert scaled data back to a DataFrame for clarity (optional)\n",
        "X_scaled = pd.DataFrame(X_scaled, columns=X.columns)\n",
        "\n",
        "# Display the first few rows of scaled data\n",
        "print(\"\\nFirst 5 rows of scaled features:\")\n",
        "print(X_scaled.head())\n",
        "\n",
        "# Optional: Check the shape of the processed data\n",
        "print(\"\\nShape of features (X_scaled):\", X_scaled.shape)\n",
        "print(\"Shape of target (y):\", y.shape)"
      ],
      "metadata": {
        "colab": {
          "base_uri": "https://localhost:8080/"
        },
        "id": "0AvUn5ja777z",
        "outputId": "b5d86f51-8fe4-4cb0-d0e3-ffd60d4c3d13"
      },
      "execution_count": null,
      "outputs": [
        {
          "output_type": "stream",
          "name": "stdout",
          "text": [
            "Missing values before preprocessing:\n",
            "Sand %       0\n",
            "Clay %       0\n",
            "Silt %       0\n",
            "pH           0\n",
            "EC mS/cm     0\n",
            "O.M. %       0\n",
            "CACO3 %      0\n",
            "N_NO3 ppm    0\n",
            "P ppm        0\n",
            "K ppm        0\n",
            "Mg ppm       0\n",
            "Fe ppm       0\n",
            "Zn ppm       0\n",
            "Mn ppm       1\n",
            "Cu ppm       0\n",
            "B ppm        0\n",
            "dtype: int64\n",
            "\n",
            "Missing values filled with column means.\n",
            "\n",
            "First 5 rows of scaled features:\n",
            "     Sand %    Clay %    Silt %        pH  EC mS/cm    O.M. %   CACO3 %  \\\n",
            "0  0.185791 -0.052238 -0.219464 -2.522795 -1.172443  1.255003 -0.975693   \n",
            "1  0.773725 -0.659873 -0.219464 -0.955369 -0.803489 -1.241898 -0.975693   \n",
            "2 -0.500133 -0.153510  1.052629  0.510321  0.654110 -0.903609 -0.922599   \n",
            "3  0.969703 -0.963691 -0.060452  1.860480 -0.803489 -2.027215 -0.073083   \n",
            "4 -0.245361  0.109799  0.225769  1.696667 -0.634954 -1.729197 -0.392978   \n",
            "\n",
            "   N_NO3 ppm     P ppm    K ppm     Mg ppm    Fe ppm    Zn ppm    Mn ppm  \\\n",
            "0  -0.964743 -0.274829 -0.770016  0.630296  1.177145 -1.006328  0.315275   \n",
            "1  -0.954736  1.043102 -0.484302  0.492043  0.054605  1.206879 -0.453042   \n",
            "2  -0.929002 -0.236066 -0.458328  0.860718  0.097669  0.726791 -0.419003   \n",
            "3  -1.782493 -1.424789 -1.038415 -1.185428 -1.398812 -0.409418 -1.469361   \n",
            "4  -1.630952 -1.398947 -0.068718  0.224754 -1.172725 -1.577633 -1.297543   \n",
            "\n",
            "     Cu ppm     B ppm  \n",
            "0 -0.054094 -0.832149  \n",
            "1 -0.119916 -0.810687  \n",
            "2  0.002324 -0.703379  \n",
            "3 -0.778132 -0.617532  \n",
            "4 -0.486636 -0.832149  \n",
            "\n",
            "Shape of features (X_scaled): (4000, 16)\n",
            "Shape of target (y): (4000,)\n"
          ]
        }
      ]
    },
    {
      "cell_type": "markdown",
      "source": [
        "Step 4: Split the Data"
      ],
      "metadata": {
        "id": "B3TxXndUneAW"
      }
    },
    {
      "cell_type": "code",
      "source": [
        "from sklearn.model_selection import train_test_split\n",
        "\n",
        "# Assuming 'X_scaled' and 'y' are from Step 3\n",
        "# If not prepared yet, ensure Steps 1-3 are run first\n",
        "\n",
        "# Split the data into training and testing sets\n",
        "X_train, X_test, y_train, y_test = train_test_split(\n",
        "    X_scaled,\n",
        "    y,\n",
        "    test_size=0.2,\n",
        "    random_state=42,\n",
        "    stratify=y\n",
        ")\n",
        "\n",
        "# Verify the split\n",
        "print(\"Training set size (features):\", X_train.shape)\n",
        "print(\"Testing set size (features):\", X_test.shape)\n",
        "print(\"Training set size (target):\", y_train.shape)\n",
        "print(\"Testing set size (target):\", y_test.shape)\n",
        "\n",
        "# Optional: Check the distribution of labels in train and test sets\n",
        "print(\"\\nLabel distribution in training set:\")\n",
        "print(y_train.value_counts(normalize=True))\n",
        "print(\"\\nLabel distribution in testing set:\")\n",
        "print(y_test.value_counts(normalize=True))"
      ],
      "metadata": {
        "colab": {
          "base_uri": "https://localhost:8080/"
        },
        "id": "CMYYNQns8tu4",
        "outputId": "2fa35701-80b7-40f0-aa0b-ab73161d718a"
      },
      "execution_count": null,
      "outputs": [
        {
          "output_type": "stream",
          "name": "stdout",
          "text": [
            "Training set size (features): (3200, 16)\n",
            "Testing set size (features): (800, 16)\n",
            "Training set size (target): (3200,)\n",
            "Testing set size (target): (800,)\n",
            "\n",
            "Label distribution in training set:\n",
            "Quality\n",
            "2    0.882812\n",
            "1    0.109375\n",
            "0    0.007812\n",
            "Name: proportion, dtype: float64\n",
            "\n",
            "Label distribution in testing set:\n",
            "Quality\n",
            "2    0.8825\n",
            "1    0.1100\n",
            "0    0.0075\n",
            "Name: proportion, dtype: float64\n"
          ]
        }
      ]
    },
    {
      "cell_type": "markdown",
      "source": [
        "Step 5: Train the Model"
      ],
      "metadata": {
        "id": "obJefzXxnkvS"
      }
    },
    {
      "cell_type": "code",
      "source": [
        "from sklearn.ensemble import RandomForestClassifier\n",
        "\n",
        "# Assuming 'X_train' and 'y_train' are from Step 4\n",
        "# If not prepared yet, ensure Steps 1-4 are run first\n",
        "\n",
        "# Initialize the Random Forest Classifier\n",
        "model = RandomForestClassifier(\n",
        "    n_estimators=100,  # Number of trees in the forest\n",
        "    random_state=42    # For reproducibility\n",
        ")\n",
        "\n",
        "# Train the model on the training data\n",
        "model.fit(X_train, y_train)\n",
        "\n",
        "# Confirm training completion\n",
        "print(\"Model trained successfully!\")\n",
        "print(\"Number of trees in the forest:\", model.n_estimators)\n",
        "print(\"Features used for training:\", X_train.shape[1])"
      ],
      "metadata": {
        "colab": {
          "base_uri": "https://localhost:8080/"
        },
        "id": "WO-3plcy9Vir",
        "outputId": "729d67f9-ff17-411a-bb66-58dac59c96da"
      },
      "execution_count": null,
      "outputs": [
        {
          "output_type": "stream",
          "name": "stdout",
          "text": [
            "Model trained successfully!\n",
            "Number of trees in the forest: 100\n",
            "Features used for training: 16\n"
          ]
        }
      ]
    },
    {
      "cell_type": "code",
      "source": [
        "import pickle\n",
        "\n",
        "# Save the trained model to a .pkl file\n",
        "with open(\"Soil_quality_Testing_model.pkl\", \"wb\") as f:\n",
        "    pickle.dump(model, f)\n"
      ],
      "metadata": {
        "id": "KZVlO6AnKEFQ"
      },
      "execution_count": null,
      "outputs": []
    },
    {
      "cell_type": "code",
      "source": [
        "from google.colab import files\n",
        "files.download(\"Soil_quality_Testing_model.pkl\")\n"
      ],
      "metadata": {
        "id": "6J1Ro4KBLj3g",
        "outputId": "4eb3505f-4610-443c-91c1-00836e68fa50",
        "colab": {
          "base_uri": "https://localhost:8080/",
          "height": 17
        }
      },
      "execution_count": null,
      "outputs": [
        {
          "output_type": "display_data",
          "data": {
            "text/plain": [
              "<IPython.core.display.Javascript object>"
            ],
            "application/javascript": [
              "\n",
              "    async function download(id, filename, size) {\n",
              "      if (!google.colab.kernel.accessAllowed) {\n",
              "        return;\n",
              "      }\n",
              "      const div = document.createElement('div');\n",
              "      const label = document.createElement('label');\n",
              "      label.textContent = `Downloading \"${filename}\": `;\n",
              "      div.appendChild(label);\n",
              "      const progress = document.createElement('progress');\n",
              "      progress.max = size;\n",
              "      div.appendChild(progress);\n",
              "      document.body.appendChild(div);\n",
              "\n",
              "      const buffers = [];\n",
              "      let downloaded = 0;\n",
              "\n",
              "      const channel = await google.colab.kernel.comms.open(id);\n",
              "      // Send a message to notify the kernel that we're ready.\n",
              "      channel.send({})\n",
              "\n",
              "      for await (const message of channel.messages) {\n",
              "        // Send a message to notify the kernel that we're ready.\n",
              "        channel.send({})\n",
              "        if (message.buffers) {\n",
              "          for (const buffer of message.buffers) {\n",
              "            buffers.push(buffer);\n",
              "            downloaded += buffer.byteLength;\n",
              "            progress.value = downloaded;\n",
              "          }\n",
              "        }\n",
              "      }\n",
              "      const blob = new Blob(buffers, {type: 'application/binary'});\n",
              "      const a = document.createElement('a');\n",
              "      a.href = window.URL.createObjectURL(blob);\n",
              "      a.download = filename;\n",
              "      div.appendChild(a);\n",
              "      a.click();\n",
              "      div.remove();\n",
              "    }\n",
              "  "
            ]
          },
          "metadata": {}
        },
        {
          "output_type": "display_data",
          "data": {
            "text/plain": [
              "<IPython.core.display.Javascript object>"
            ],
            "application/javascript": [
              "download(\"download_f158ceb5-0050-48b8-a1c9-70f2ce9376cf\", \"Soil_quality_Testing_model.pkl\", 1891067)"
            ]
          },
          "metadata": {}
        }
      ]
    },
    {
      "cell_type": "markdown",
      "source": [
        "Step 6: Evaluate the Model"
      ],
      "metadata": {
        "id": "QdWMb4PDntHU"
      }
    },
    {
      "cell_type": "code",
      "source": [
        "from sklearn.metrics import accuracy_score, classification_report, confusion_matrix\n",
        "import seaborn as sns\n",
        "import matplotlib.pyplot as plt\n",
        "\n",
        "# Assuming 'model', 'X_test', and 'y_test' are from Steps 4 and 5\n",
        "# If not prepared yet, ensure Steps 1-5 are run first\n",
        "\n",
        "# Make predictions on the test set\n",
        "y_pred = model.predict(X_test)\n",
        "\n",
        "# Calculate accuracy\n",
        "accuracy = accuracy_score(y_test, y_pred)\n",
        "print(\"Accuracy on test set:\", round(accuracy, 3))\n",
        "\n",
        "# Generate classification report\n",
        "print(\"\\nClassification Report:\")\n",
        "print(classification_report(y_test, y_pred, target_names=[\"Poor\", \"Moderate\", \"Good\"]))\n",
        "\n",
        "# Generate and plot confusion matrix\n",
        "cm = confusion_matrix(y_test, y_pred)\n",
        "plt.figure(figsize=(8, 6))\n",
        "sns.heatmap(cm, annot=True, fmt='d', cmap='Blues',\n",
        "            xticklabels=[\"Poor\", \"Moderate\", \"Good\"],\n",
        "            yticklabels=[\"Poor\", \"Moderate\", \"Good\"])\n",
        "plt.xlabel('Predicted')\n",
        "plt.ylabel('Actual')\n",
        "plt.title('Confusion Matrix')\n",
        "plt.show()"
      ],
      "metadata": {
        "colab": {
          "base_uri": "https://localhost:8080/",
          "height": 790
        },
        "id": "Qr3Y3nkA9xSz",
        "outputId": "cfa45473-47aa-4016-da7c-64f574d2c864"
      },
      "execution_count": null,
      "outputs": [
        {
          "output_type": "stream",
          "name": "stdout",
          "text": [
            "Accuracy on test set: 0.973\n",
            "\n",
            "Classification Report:\n",
            "              precision    recall  f1-score   support\n",
            "\n",
            "        Poor       1.00      0.67      0.80         6\n",
            "    Moderate       0.92      0.82      0.87        88\n",
            "        Good       0.98      0.99      0.99       706\n",
            "\n",
            "    accuracy                           0.97       800\n",
            "   macro avg       0.97      0.83      0.88       800\n",
            "weighted avg       0.97      0.97      0.97       800\n",
            "\n"
          ]
        },
        {
          "output_type": "display_data",
          "data": {
            "text/plain": [
              "<Figure size 800x600 with 2 Axes>"
            ],
            "image/png": "[encoded data removed]"
          },
          "metadata": {}
        }
      ]
    },
    {
      "cell_type": "markdown",
      "source": [
        "Step 7: Analyze Feature Importance"
      ],
      "metadata": {
        "id": "nY1ZExGOn0g5"
      }
    },
    {
      "cell_type": "code",
      "source": [
        "import pandas as pd\n",
        "\n",
        "# Assuming 'model' is the trained Random Forest from Step 5 and 'X' or 'X_scaled' from Step 3\n",
        "# If not prepared yet, ensure Steps 1-6 are run first\n",
        "\n",
        "# Extract feature importances from the model\n",
        "feature_importances = model.feature_importances_\n",
        "\n",
        "# Get feature names (from the original or scaled DataFrame)\n",
        "feature_names = X_scaled.columns  # Use X.columns if you didn’t convert to DataFrame in Step 3\n",
        "\n",
        "# Create a DataFrame for feature importances\n",
        "importances_df = pd.DataFrame({\n",
        "    'Feature': feature_names,\n",
        "    'Importance': feature_importances\n",
        "})\n",
        "\n",
        "# Sort by importance (descending)\n",
        "importances_df = importances_df.sort_values(by='Importance', ascending=False)\n",
        "\n",
        "# Display the feature importances\n",
        "print(\"Feature Importances (sorted):\")\n",
        "print(importances_df)\n",
        "\n",
        "# Optional: Plot the feature importances\n",
        "import matplotlib.pyplot as plt\n",
        "plt.figure(figsize=(10, 6))\n",
        "plt.barh(importances_df['Feature'], importances_df['Importance'], color='skyblue')\n",
        "plt.xlabel('Importance')\n",
        "plt.ylabel('Feature')\n",
        "plt.title('Feature Importance in Random Forest Model')\n",
        "plt.gca().invert_yaxis()  # Highest importance at the top\n",
        "plt.show()"
      ],
      "metadata": {
        "colab": {
          "base_uri": "https://localhost:8080/",
          "height": 876
        },
        "id": "rqC0DY3X91jl",
        "outputId": "57747e8a-12da-4580-dcb7-b07a5d426372"
      },
      "execution_count": null,
      "outputs": [
        {
          "output_type": "stream",
          "name": "stdout",
          "text": [
            "Feature Importances (sorted):\n",
            "      Feature  Importance\n",
            "8       P ppm    0.168766\n",
            "5      O.M. %    0.152748\n",
            "3          pH    0.124332\n",
            "7   N_NO3 ppm    0.122550\n",
            "9      K ppm     0.099358\n",
            "12     Zn ppm    0.047274\n",
            "11     Fe ppm    0.035548\n",
            "13     Mn ppm    0.034842\n",
            "4    EC mS/cm    0.034380\n",
            "0      Sand %    0.030655\n",
            "10     Mg ppm    0.030519\n",
            "1      Clay %    0.030020\n",
            "14     Cu ppm    0.025111\n",
            "6     CACO3 %    0.023610\n",
            "2      Silt %    0.022026\n",
            "15      B ppm    0.018260\n"
          ]
        },
        {
          "output_type": "display_data",
          "data": {
            "text/plain": [
              "<Figure size 1000x600 with 1 Axes>"
            ],
            "image/png": "[encoded data removed]"
          },
          "metadata": {}
        }
      ]
    },
    {
      "cell_type": "markdown",
      "source": [
        "Step 8: Refine the Model"
      ],
      "metadata": {
        "id": "MOB0BFCEn8ZD"
      }
    },
    {
      "cell_type": "code",
      "source": [
        "from sklearn.ensemble import RandomForestClassifier\n",
        "from sklearn.model_selection import GridSearchCV\n",
        "from sklearn.metrics import accuracy_score\n",
        "\n",
        "# Assuming 'X_train', 'X_test', 'y_train', 'y_test' are from Step 4\n",
        "# If not prepared yet, ensure Steps 1-7 are run first\n",
        "\n",
        "# Step 8a: Handle class imbalance (if needed)\n",
        "# Check class distribution from Step 4; if imbalanced, use class weights\n",
        "print(\"Class distribution in training set (from Step 4):\")\n",
        "print(y_train.value_counts(normalize=True))\n",
        "\n",
        "# Initialize model with class weights\n",
        "model_balanced = RandomForestClassifier(\n",
        "    n_estimators=100,\n",
        "    random_state=42,\n",
        "    class_weight='balanced'  # Adjusts weights inversely proportional to class frequencies\n",
        ")\n",
        "\n",
        "# Train the balanced model\n",
        "model_balanced.fit(X_train, y_train)\n",
        "y_pred_balanced = model_balanced.predict(X_test)\n",
        "print(\"\\nAccuracy with class weights:\", round(accuracy_score(y_test, y_pred_balanced), 3))\n",
        "\n",
        "# Step 8b: Hyperparameter tuning with GridSearchCV\n",
        "# Define parameter grid\n",
        "param_grid = {\n",
        "    'n_estimators': [50, 100, 200],  # Number of trees\n",
        "    'max_depth': [None, 10, 20],     # Maximum depth of trees\n",
        "    'min_samples_split': [2, 5]      # Minimum samples to split a node\n",
        "}\n",
        "\n",
        "# Initialize base model\n",
        "base_model = RandomForestClassifier(random_state=42, class_weight='balanced')\n",
        "\n",
        "# Set up GridSearchCV\n",
        "grid_search = GridSearchCV(\n",
        "    estimator=base_model,\n",
        "    param_grid=param_grid,\n",
        "    cv=5,              # 5-fold cross-validation\n",
        "    scoring='accuracy',\n",
        "    n_jobs=-1          # Use all available CPU cores\n",
        ")\n",
        "\n",
        "# Fit GridSearchCV\n",
        "grid_search.fit(X_train, y_train)\n",
        "\n",
        "# Get the best model\n",
        "best_model = grid_search.best_estimator_\n",
        "print(\"\\nBest parameters from GridSearchCV:\", grid_search.best_params_)\n",
        "print(\"Best cross-validation accuracy:\", round(grid_search.best_score_, 3))\n",
        "\n",
        "# Evaluate the best model on the test set\n",
        "y_pred_best = best_model.predict(X_test)\n",
        "print(\"Accuracy of tuned model on test set:\", round(accuracy_score(y_test, y_pred_best), 3))\n",
        "\n",
        "# Update the model variable for future steps\n",
        "model = best_model\n",
        "print(\"Model updated with tuned parameters!\")"
      ],
      "metadata": {
        "id": "Thgfd4PI-0T9",
        "colab": {
          "base_uri": "https://localhost:8080/"
        },
        "outputId": "bc7a5f75-36ac-4ad0-e4a8-da7ca9d111f2"
      },
      "execution_count": null,
      "outputs": [
        {
          "output_type": "stream",
          "name": "stdout",
          "text": [
            "Class distribution in training set (from Step 4):\n",
            "Quality\n",
            "2    0.882812\n",
            "1    0.109375\n",
            "0    0.007812\n",
            "Name: proportion, dtype: float64\n",
            "\n",
            "Accuracy with class weights: 0.956\n",
            "\n",
            "Best parameters from GridSearchCV: {'max_depth': None, 'min_samples_split': 5, 'n_estimators': 100}\n",
            "Best cross-validation accuracy: 0.953\n",
            "Accuracy of tuned model on test set: 0.961\n",
            "Model updated with tuned parameters!\n"
          ]
        }
      ]
    },
    {
      "cell_type": "markdown",
      "source": [
        "Step 9: Make Predictions"
      ],
      "metadata": {
        "id": "JBEsbKDZoGR4"
      }
    },
    {
      "cell_type": "code",
      "source": [
        "import pandas as pd\n",
        "import joblib\n",
        "\n",
        "# Load the saved model and scaler from Step 10\n",
        "model = joblib.load('soil_quality_model.pkl')\n",
        "scaler = joblib.load('scaler.pkl')\n",
        "\n",
        "# Define a new soil sample (example values)\n",
        "new_sample = pd.DataFrame({\n",
        "    'Sand %': [58.0], 'Clay %': [20.0], 'Silt %': [22.0], 'pH': [7.7], 'EC mS/cm': [0.4],\n",
        "    'O.M. %': [0.7], 'CACO3 %': [6.0], 'N_NO3 ppm': [4.2], 'P ppm': [6.3], 'K ppm ': [116.0],\n",
        "    'Mg ppm': [986.0], 'Fe ppm': [12.5], 'Zn ppm': [0.6], 'Mn ppm': [12.5], 'Cu ppm': [0.9],\n",
        "    'B ppm': [0.2]\n",
        "})\n",
        "\n",
        "# Scale the new sample\n",
        "new_sample_scaled = scaler.transform(new_sample)\n",
        "\n",
        "# Predict quality\n",
        "prediction = model.predict(new_sample_scaled)[0]\n",
        "quality_map = {0: \"Poor\", 1: \"Moderate\", 2: \"Good\"}\n",
        "quality = quality_map[prediction]\n",
        "\n",
        "# Analyze reasons and suggest resolutions\n",
        "reasons = []\n",
        "recommendations = []\n",
        "sample = new_sample.iloc[0]\n",
        "\n",
        "# pH\n",
        "if sample['pH'] < 5.5:\n",
        "    reasons.append(\"Soil too acidic (low pH)\")\n",
        "    recommendations.append(\"Apply lime to raise pH\")\n",
        "elif sample['pH'] > 8.0:\n",
        "    reasons.append(\"Soil too alkaline (high pH)\")\n",
        "    recommendations.append(\"Add sulfur or organic matter to lower pH\")\n",
        "\n",
        "# EC (salinity)\n",
        "if sample['EC mS/cm'] > 2.0:\n",
        "    reasons.append(\"High salinity (elevated EC)\")\n",
        "    recommendations.append(\"Leach salts with irrigation or improve drainage\")\n",
        "elif sample['EC mS/cm'] > 1.0 and quality != \"Good\":\n",
        "    reasons.append(\"Moderate salinity\")\n",
        "    recommendations.append(\"Monitor irrigation water quality\")\n",
        "\n",
        "# Organic Matter\n",
        "if sample['O.M. %'] < 1.0:\n",
        "    reasons.append(\"Low organic matter\")\n",
        "    recommendations.append(\"Add compost or manure to increase organic matter\")\n",
        "elif sample['O.M. %'] < 2.0 and quality != \"Good\":\n",
        "    reasons.append(\"Suboptimal organic matter\")\n",
        "    recommendations.append(\"Incorporate cover crops or organic amendments\")\n",
        "\n",
        "# Macronutrients\n",
        "if sample['N_NO3 ppm'] < 5.0:\n",
        "    reasons.append(\"Nitrogen deficiency\")\n",
        "    recommendations.append(\"Apply nitrogen fertilizer (e.g., urea)\")\n",
        "elif sample['N_NO3 ppm'] < 10.0 and quality != \"Good\":\n",
        "    reasons.append(\"Low nitrogen\")\n",
        "    recommendations.append(\"Supplement with nitrogen-rich fertilizer\")\n",
        "\n",
        "if sample['P ppm'] < 5.0:\n",
        "    reasons.append(\"Phosphorus deficiency\")\n",
        "    recommendations.append(\"Apply phosphorus fertilizer (e.g., superphosphate)\")\n",
        "elif sample['P ppm'] < 15.0 and quality != \"Good\":\n",
        "    reasons.append(\"Low phosphorus\")\n",
        "    recommendations.append(\"Add phosphorus amendment\")\n",
        "\n",
        "if sample['K ppm '] < 100.0:\n",
        "    reasons.append(\"Potassium deficiency\")\n",
        "    recommendations.append(\"Apply potassium fertilizer (e.g., potash)\")\n",
        "elif sample['K ppm '] < 150.0 and quality != \"Good\":\n",
        "    reasons.append(\"Low potassium\")\n",
        "    recommendations.append(\"Supplement with potassium source\")\n",
        "\n",
        "# Texture\n",
        "if sample['Sand %'] > 70.0:\n",
        "    reasons.append(\"Excessively sandy soil (poor nutrient retention)\")\n",
        "    recommendations.append(\"Add organic matter to improve water and nutrient holding capacity\")\n",
        "elif sample['Clay %'] > 60.0:\n",
        "    reasons.append(\"High clay content (poor drainage)\")\n",
        "    recommendations.append(\"Improve drainage with gypsum or organic matter\")\n",
        "\n",
        "if quality == \"Good\" and not reasons:\n",
        "    reasons.append(\"No significant issues detected\")\n",
        "    recommendations.append(\"Maintain current soil management practices\")\n",
        "\n",
        "# Display results\n",
        "print(\"New Sample Features:\")\n",
        "print(new_sample)\n",
        "print(f\"\\nPredicted Soil Quality: {quality}\")\n",
        "print(\"Reasons:\", reasons)\n",
        "print(\"Recommendations:\", recommendations)"
      ],
      "metadata": {
        "colab": {
          "base_uri": "https://localhost:8080/"
        },
        "id": "zP1qIBww_zBf",
        "outputId": "c39508a8-7fb2-46ec-f552-63ed079b90fb"
      },
      "execution_count": null,
      "outputs": [
        {
          "output_type": "stream",
          "name": "stdout",
          "text": [
            "New Sample Features:\n",
            "   Sand %  Clay %  Silt %   pH  EC mS/cm  O.M. %  CACO3 %  N_NO3 ppm  P ppm  \\\n",
            "0    58.0    20.0    22.0  7.7       0.4     0.7      6.0        4.2    6.3   \n",
            "\n",
            "   K ppm   Mg ppm  Fe ppm  Zn ppm  Mn ppm  Cu ppm  B ppm  \n",
            "0   116.0   986.0    12.5     0.6    12.5     0.9    0.2  \n",
            "\n",
            "Predicted Soil Quality: Moderate\n",
            "Reasons: ['Low organic matter', 'Nitrogen deficiency', 'Low phosphorus', 'Low potassium']\n",
            "Recommendations: ['Add compost or manure to increase organic matter', 'Apply nitrogen fertilizer (e.g., urea)', 'Add phosphorus amendment', 'Supplement with potassium source']\n"
          ]
        },
        {
          "output_type": "stream",
          "name": "stderr",
          "text": [
            "/usr/local/lib/python3.11/dist-packages/sklearn/utils/validation.py:2739: UserWarning: X does not have valid feature names, but RandomForestClassifier was fitted with feature names\n",
            "  warnings.warn(\n"
          ]
        }
      ]
    },
    {
      "cell_type": "markdown",
      "source": [
        "Step 10: Save and Deploy the Model"
      ],
      "metadata": {
        "id": "Yzqh_WFBoN5R"
      }
    },
    {
      "cell_type": "code",
      "source": [
        "import joblib\n",
        "import pandas as pd\n",
        "\n",
        "# Assuming 'model' is the trained/refined Random Forest from Steps 5/8\n",
        "# and 'scaler' is the StandardScaler from Step 3\n",
        "# If not prepared yet, ensure Steps 1-9 are run first\n",
        "\n",
        "# Step 10a: Save the model and scaler\n",
        "joblib.dump(model, 'soil_quality_model.pkl')\n",
        "joblib.dump(scaler, 'scaler.pkl')\n",
        "print(\"Model and scaler saved successfully as 'soil_quality_model.pkl' and 'scaler.pkl'!\")\n",
        "\n",
        "# Step 10b: Example of loading and using the saved model\n",
        "# Load the model and scaler\n",
        "loaded_model = joblib.load('soil_quality_model.pkl')\n",
        "loaded_scaler = joblib.load('scaler.pkl')\n",
        "\n",
        "# Define a new soil sample (same as Step 9 example)\n",
        "new_sample = pd.DataFrame({\n",
        "    'Sand %': [40.0],\n",
        "    'Clay %': [30.0],\n",
        "    'Silt %': [30.0],\n",
        "    'pH': [6.5],\n",
        "    'EC mS/cm': [0.5],\n",
        "    'O.M. %': [2.5],\n",
        "    'CACO3 %': [5.0],\n",
        "    'N_NO3 ppm': [15.0],\n",
        "    'P ppm': [20.0],\n",
        "    'K ppm ': [200.0],\n",
        "    'Mg ppm': [500.0],\n",
        "    'Fe ppm': [15.0],\n",
        "    'Zn ppm': [1.5],\n",
        "    'Mn ppm': [12.0],\n",
        "    'Cu ppm': [1.2],\n",
        "    'B ppm': [0.6]\n",
        "})\n",
        "\n",
        "# Scale the new sample with the loaded scaler\n",
        "new_sample_scaled = loaded_scaler.transform(new_sample)\n",
        "\n",
        "# Make prediction with the loaded model\n",
        "prediction = loaded_model.predict(new_sample_scaled)\n",
        "quality_map = {0: \"Poor\", 1: \"Moderate\", 2: \"Good\"}\n",
        "predicted_quality = quality_map[prediction[0]]\n",
        "\n",
        "# Display the result\n",
        "print(\"\\nUsing the loaded model:\")\n",
        "print(\"New Sample Features:\")\n",
        "print(new_sample)\n",
        "print(\"Predicted Soil Quality:\", predicted_quality)"
      ],
      "metadata": {
        "colab": {
          "base_uri": "https://localhost:8080/"
        },
        "id": "p65XSyifAs43",
        "outputId": "557d075e-d20e-4489-f611-262c0231f6fe"
      },
      "execution_count": null,
      "outputs": [
        {
          "output_type": "stream",
          "name": "stdout",
          "text": [
            "Model and scaler saved successfully as 'soil_quality_model.pkl' and 'scaler.pkl'!\n",
            "\n",
            "Using the loaded model:\n",
            "New Sample Features:\n",
            "   Sand %  Clay %  Silt %   pH  EC mS/cm  O.M. %  CACO3 %  N_NO3 ppm  P ppm  \\\n",
            "0    40.0    30.0    30.0  6.5       0.5     2.5      5.0       15.0   20.0   \n",
            "\n",
            "   K ppm   Mg ppm  Fe ppm  Zn ppm  Mn ppm  Cu ppm  B ppm  \n",
            "0   200.0   500.0    15.0     1.5    12.0     1.2    0.6  \n",
            "Predicted Soil Quality: Good\n"
          ]
        },
        {
          "output_type": "stream",
          "name": "stderr",
          "text": [
            "/usr/local/lib/python3.11/dist-packages/sklearn/utils/validation.py:2739: UserWarning: X does not have valid feature names, but RandomForestClassifier was fitted with feature names\n",
            "  warnings.warn(\n"
          ]
        }
      ]
    },
    {
      "cell_type": "markdown",
      "source": [
        "Step 11: Create a Simple Prediction Function"
      ],
      "metadata": {
        "id": "rMs5wU-ioVEW"
      }
    },
    {
      "cell_type": "code",
      "source": [
        "import joblib\n",
        "import pandas as pd\n",
        "\n",
        "# Load the saved model and scaler from Step 10\n",
        "model = joblib.load('soil_quality_model.pkl')\n",
        "scaler = joblib.load('scaler.pkl')\n",
        "\n",
        "# Define the enhanced prediction function\n",
        "def predict_soil_quality_enhanced(sample_data):\n",
        "    \"\"\"Predict soil quality, identify reasons, and suggest improvements.\"\"\"\n",
        "    feature_order = [\n",
        "    'Sand %', 'Clay %', 'Silt %', 'pH', 'EC mS/cm', 'O.M. %', 'CACO3 %',\n",
        "    'N_NO3 ppm', 'P ppm', 'K ppm ', 'Mg ppm', 'Fe ppm', 'Zn ppm', 'Mn ppm',  # Changed 'K ppm ' to 'K ppm'\n",
        "    'Cu ppm', 'B ppm'\n",
        "]\n",
        "\n",
        "    # Convert input to DataFrame\n",
        "    if isinstance(sample_data, dict):\n",
        "        sample_df = pd.DataFrame([sample_data])\n",
        "    elif isinstance(sample_data, list):\n",
        "        sample_df = pd.DataFrame([sample_data], columns=feature_order)\n",
        "    else:\n",
        "        raise ValueError(\"Input must be a dict or list with 16 features.\")\n",
        "\n",
        "    # Ensure all features are present and in the correct order\n",
        "    if not all(feat in sample_df.columns for feat in feature_order):\n",
        "        raise ValueError(\"Input must contain all 16 features in the correct order.\")\n",
        "\n",
        "    # Select features in the expected order\n",
        "    sample_df = sample_df[feature_order]\n",
        "\n",
        "    #Scale the new sample\n",
        "    sample_scaled = scaler.transform(sample_df)\n",
        "\n",
        "    # Predict quality\n",
        "    prediction = model.predict(sample_scaled)[0]\n",
        "    quality_map = {0: \"Poor\", 1: \"Moderate\", 2: \"Good\"}\n",
        "    quality = quality_map[prediction]\n",
        "\n",
        "    # Analyze reasons and suggest resolutions\n",
        "    reasons = []\n",
        "    recommendations = []\n",
        "    sample = sample_df.iloc[0]\n",
        "\n",
        "    if sample['pH'] < 5.5:\n",
        "        reasons.append(\"Soil too acidic (low pH)\")\n",
        "        recommendations.append(\"Apply lime to raise pH\")\n",
        "    elif sample['pH'] > 8.0:\n",
        "        reasons.append(\"Soil too alkaline (high pH)\")\n",
        "        recommendations.append(\"Add sulfur or organic matter to lower pH\")\n",
        "\n",
        "    if sample['EC mS/cm'] > 2.0:\n",
        "        reasons.append(\"High salinity (elevated EC)\")\n",
        "        recommendations.append(\"Leach salts with irrigation or improve drainage\")\n",
        "    elif sample['EC mS/cm'] > 1.0 and quality != \"Good\":\n",
        "        reasons.append(\"Moderate salinity\")\n",
        "        recommendations.append(\"Monitor irrigation water quality\")\n",
        "\n",
        "    if sample['O.M. %'] < 1.0:\n",
        "        reasons.append(\"Low organic matter\")\n",
        "        recommendations.append(\"Add compost or manure to increase organic matter\")\n",
        "    elif sample['O.M. %'] < 2.0 and quality != \"Good\":\n",
        "        reasons.append(\"Suboptimal organic matter\")\n",
        "        recommendations.append(\"Incorporate cover crops or organic amendments\")\n",
        "\n",
        "    if sample['N_NO3 ppm'] < 5.0:\n",
        "        reasons.append(\"Nitrogen deficiency\")\n",
        "        recommendations.append(\"Apply nitrogen fertilizer (e.g., urea)\")\n",
        "    elif sample['N_NO3 ppm'] < 10.0 and quality != \"Good\":\n",
        "        reasons.append(\"Low nitrogen\")\n",
        "        recommendations.append(\"Supplement with nitrogen-rich fertilizer\")\n",
        "\n",
        "    if sample['P ppm'] < 5.0:\n",
        "        reasons.append(\"Phosphorus deficiency\")\n",
        "        recommendations.append(\"Apply phosphorus fertilizer (e.g., superphosphate)\")\n",
        "    elif sample['P ppm'] < 15.0 and quality != \"Good\":\n",
        "        reasons.append(\"Low phosphorus\")\n",
        "        recommendations.append(\"Add phosphorus amendment\")\n",
        "\n",
        "    if sample['K ppm '] < 100.0:\n",
        "        reasons.append(\"Potassium deficiency\")\n",
        "        recommendations.append(\"Apply potassium fertilizer (e.g., potash)\")\n",
        "    elif sample['K ppm '] < 150.0 and quality != \"Good\":\n",
        "        reasons.append(\"Low potassium\")\n",
        "        recommendations.append(\"Supplement with potassium source\")\n",
        "\n",
        "    if sample['Sand %'] > 70.0:\n",
        "        reasons.append(\"Excessively sandy soil (poor nutrient retention)\")\n",
        "        recommendations.append(\"Add organic matter to improve water and nutrient holding capacity\")\n",
        "    elif sample['Clay %'] > 60.0:\n",
        "        reasons.append(\"High clay content (poor drainage)\")\n",
        "        recommendations.append(\"Improve drainage with gypsum or organic matter\")\n",
        "\n",
        "    if quality == \"Good\" and not reasons:\n",
        "        reasons.append(\"No significant issues detected\")\n",
        "        recommendations.append(\"Maintain current soil management practices\")\n",
        "\n",
        "    return {\n",
        "        \"Soil Quality\": quality,\n",
        "        \"Reasons\": reasons,\n",
        "        \"Recommendations\": recommendations\n",
        "    }\n",
        "\n",
        "# Example usage\n",
        "new_sample = {\n",
        "    'Sand %': 58.0, 'Clay %': 20.0, 'Silt %': 22.0, 'pH': 7.7, 'EC mS/cm': 0.4,\n",
        "    'O.M. %': 0.7, 'CACO3 %': 6.0, 'N_NO3 ppm': 4.2, 'P ppm': 6.3, 'K ppm ': 116.0, # Changed 'K ppm' to 'K ppm '\n",
        "    'Mg ppm': 986.0, 'Fe ppm': 12.5, 'Zn ppm': 0.6, 'Mn ppm': 12.5, 'Cu ppm': 0.9,\n",
        "    'B ppm': 0.2\n",
        "}\n",
        "\n",
        "result = predict_soil_quality_enhanced(new_sample)\n",
        "print(\"Soil Analysis Result:\")\n",
        "for key, value in result.items():\n",
        "    print(f\"{key}: {value}\")"
      ],
      "metadata": {
        "colab": {
          "base_uri": "https://localhost:8080/"
        },
        "id": "MivfrXBuBoXN",
        "outputId": "9800cfe5-473f-48e8-845f-268c7e212194"
      },
      "execution_count": null,
      "outputs": [
        {
          "output_type": "stream",
          "name": "stdout",
          "text": [
            "Soil Analysis Result:\n",
            "Soil Quality: Moderate\n",
            "Reasons: ['Low organic matter', 'Nitrogen deficiency', 'Low phosphorus', 'Low potassium']\n",
            "Recommendations: ['Add compost or manure to increase organic matter', 'Apply nitrogen fertilizer (e.g., urea)', 'Add phosphorus amendment', 'Supplement with potassium source']\n"
          ]
        },
        {
          "output_type": "stream",
          "name": "stderr",
          "text": [
            "/usr/local/lib/python3.11/dist-packages/sklearn/utils/validation.py:2739: UserWarning: X does not have valid feature names, but RandomForestClassifier was fitted with feature names\n",
            "  warnings.warn(\n"
          ]
        }
      ]
    },
    {
      "cell_type": "markdown",
      "source": [
        "Step 12: Code to Check Model Accuracy in Percentage"
      ],
      "metadata": {
        "id": "iU7j-tpgoihv"
      }
    },
    {
      "cell_type": "code",
      "source": [
        "from sklearn.metrics import accuracy_score\n",
        "\n",
        "# Assuming 'model', 'X_test', and 'y_test' are available from previous steps\n",
        "# If not, ensure Steps 1-6 (or 8) are run first\n",
        "\n",
        "# Make predictions on the test set\n",
        "y_pred = model.predict(X_test)\n",
        "\n",
        "# Calculate accuracy as a decimal (0 to 1)\n",
        "accuracy = accuracy_score(y_test, y_pred)\n",
        "\n",
        "# Convert to percentage\n",
        "accuracy_percentage = accuracy * 100\n",
        "\n",
        "# Display the result\n",
        "print(f\"Model Accuracy on Test Set: {accuracy_percentage:.2f}%\")"
      ],
      "metadata": {
        "colab": {
          "base_uri": "https://localhost:8080/"
        },
        "id": "k_Hcfi8TDyQL",
        "outputId": "2845f412-7997-4f84-ca75-0759dc47094d"
      },
      "execution_count": null,
      "outputs": [
        {
          "output_type": "stream",
          "name": "stdout",
          "text": [
            "Model Accuracy on Test Set: 96.12%\n"
          ]
        }
      ]
    },
    {
      "cell_type": "markdown",
      "source": [
        "Step 13-Confirm the Class Imbalance"
      ],
      "metadata": {
        "id": "0Inwlp7eQKCr"
      }
    },
    {
      "cell_type": "code",
      "source": [
        "import pandas as pd\n",
        "import matplotlib.pyplot as plt\n",
        "import seaborn as sns\n",
        "\n",
        "# Load the dataset (replace 'soil_data.csv' with your file path)\n",
        "data = pd.read_excel('/content/SOIL testing data.xlsx')\n",
        "\n",
        "# Assuming 'Quality' column exists from Step 2\n",
        "# If not, you need to rerun Step 2 to label the data\n",
        "def label_soil_quality(row):\n",
        "    score = 0\n",
        "    if 6.0 <= row['pH'] <= 7.5: score += 0.25\n",
        "    elif 5.5 <= row['pH'] < 6.0 or 7.5 < row['pH'] <= 8.0: score += 0.15\n",
        "    if row['EC mS/cm'] < 1: score += 0.15\n",
        "    if row['O.M. %'] > 2: score += 0.2\n",
        "    if row['N_NO3 ppm'] > 10: score += 0.1\n",
        "    if row['P ppm'] > 15: score += 0.1\n",
        "    if row['K ppm '] > 150: score += 0.1\n",
        "    if 20 <= row['Sand %'] <= 50 and 20 <= row['Clay %'] <= 50: score += 0.1\n",
        "    if score >= 0.7: return \"Good\"\n",
        "    elif score >= 0.4: return \"Moderate\"\n",
        "    else: return \"Poor\"\n",
        "\n",
        "# Apply labeling if not already done\n",
        "if 'Quality' not in data.columns:\n",
        "    data['Quality'] = data.apply(label_soil_quality, axis=1)\n",
        "    data['Quality'] = data['Quality'].map({\"Good\": 2, \"Moderate\": 1, \"Poor\": 0})\n",
        "\n",
        "# Check class distribution\n",
        "print(\"Class Distribution (Proportions):\")\n",
        "print(data['Quality'].value_counts(normalize=True))\n",
        "print(\"\\nClass Counts (Absolute):\")\n",
        "print(data['Quality'].value_counts())\n",
        "\n",
        "# Visualize class distribution\n",
        "plt.figure(figsize=(8, 6))\n",
        "sns.countplot(x='Quality', data=data)\n",
        "plt.title('Class Distribution of Soil Quality')\n",
        "plt.xticks(ticks=[0, 1, 2], labels=['Poor', 'Moderate', 'Good'])\n",
        "plt.xlabel('Soil Quality')\n",
        "plt.ylabel('Count')\n",
        "plt.show()"
      ],
      "metadata": {
        "colab": {
          "base_uri": "https://localhost:8080/",
          "height": 790
        },
        "id": "42ShBYFNAMwo",
        "outputId": "32860c72-98aa-4676-f16c-d639cacdc39a"
      },
      "execution_count": null,
      "outputs": [
        {
          "output_type": "stream",
          "name": "stdout",
          "text": [
            "Class Distribution (Proportions):\n",
            "Quality\n",
            "2    0.790\n",
            "1    0.196\n",
            "0    0.014\n",
            "Name: proportion, dtype: float64\n",
            "\n",
            "Class Counts (Absolute):\n",
            "Quality\n",
            "2    3160\n",
            "1     784\n",
            "0      56\n",
            "Name: count, dtype: int64\n"
          ]
        },
        {
          "output_type": "display_data",
          "data": {
            "text/plain": [
              "<Figure size 800x600 with 1 Axes>"
            ],
            "image/png": "[encoded data removed]"
          },
          "metadata": {}
        }
      ]
    },
    {
      "cell_type": "markdown",
      "source": [
        "Step 14: Apply a Balancing Technique"
      ],
      "metadata": {
        "id": "SwqGsWR7QUhP"
      }
    },
    {
      "cell_type": "code",
      "source": [
        "from sklearn.ensemble import RandomForestClassifier\n",
        "from sklearn.preprocessing import StandardScaler\n",
        "from sklearn.model_selection import train_test_split\n",
        "from imblearn.over_sampling import SMOTE\n",
        "import joblib\n",
        "import pandas as pd # Import pandas for handling DataFrames\n",
        "\n",
        "\n",
        "# Prepare features and target\n",
        "X = data.drop(columns=[\"ID's\", \"Quality\"])\n",
        "y = data['Quality']\n",
        "\n",
        "# Scale the features\n",
        "scaler = StandardScaler()\n",
        "X_scaled = scaler.fit_transform(X)\n",
        "\n",
        "# Split the data into training and testing sets (same as Step 4)\n",
        "X_train, X_test, y_train, y_test = train_test_split(\n",
        "    X_scaled, y, test_size=0.2, random_state=42, stratify=y\n",
        ")\n",
        "\n",
        "# Impute missing values in X_train (if any) before applying SMOTE\n",
        "X_train = pd.DataFrame(X_train).fillna(pd.DataFrame(X_train).mean()).values # Convert X_train to DataFrame, impute, and convert back to NumPy array\n",
        "\n",
        "# Apply SMOTE to balance the training data\n",
        "smote = SMOTE(random_state=42)\n",
        "X_train_balanced, y_train_balanced = smote.fit_resample(X_train, y_train)\n",
        "\n",
        "# Check the new class distribution after SMOTE\n",
        "print(\"Class Distribution After SMOTE (Training Set):\")\n",
        "print(pd.Series(y_train_balanced).value_counts(normalize=True))\n",
        "print(\"\\nClass Counts After SMOTE (Training Set):\")\n",
        "print(pd.Series(y_train_balanced).value_counts())\n",
        "\n",
        "# Retrain the Random Forest model with balanced data\n",
        "model = RandomForestClassifier(\n",
        "    n_estimators=100,\n",
        "    random_state=42,\n",
        "    class_weight='balanced'  # Optional: Keep this for extra balance\n",
        ")\n",
        "model.fit(X_train_balanced, y_train_balanced)\n",
        "\n",
        "# Save the updated model and scaler\n",
        "joblib.dump(model, 'soil_quality_model_balanced.pkl')\n",
        "joblib.dump(scaler, 'scaler_balanced.pkl')\n",
        "print(\"Updated model and scaler saved as 'soil_quality_model_balanced.pkl' and 'scaler_balanced.pkl'!\")"
      ],
      "metadata": {
        "colab": {
          "base_uri": "https://localhost:8080/"
        },
        "id": "CPGRJoe1A4fj",
        "outputId": "11619a20-0884-4451-fe4a-5e4e8ee34346"
      },
      "execution_count": null,
      "outputs": [
        {
          "output_type": "stream",
          "name": "stdout",
          "text": [
            "Class Distribution After SMOTE (Training Set):\n",
            "Quality\n",
            "2    0.333333\n",
            "1    0.333333\n",
            "0    0.333333\n",
            "Name: proportion, dtype: float64\n",
            "\n",
            "Class Counts After SMOTE (Training Set):\n",
            "Quality\n",
            "2    2528\n",
            "1    2528\n",
            "0    2528\n",
            "Name: count, dtype: int64\n",
            "Updated model and scaler saved as 'soil_quality_model_balanced.pkl' and 'scaler_balanced.pkl'!\n"
          ]
        }
      ]
    },
    {
      "cell_type": "markdown",
      "source": [
        "Step 15: Evaluate the model"
      ],
      "metadata": {
        "id": "k77mgLJIUSV_"
      }
    },
    {
      "cell_type": "code",
      "source": [
        "from sklearn.metrics import classification_report, confusion_matrix\n",
        "import seaborn as sns\n",
        "import matplotlib.pyplot as plt\n",
        "\n",
        "# Make predictions on the test set\n",
        "y_pred = model.predict(X_test)\n",
        "\n",
        "# Print classification report\n",
        "print(\"Classification Report After Balancing:\")\n",
        "print(classification_report(y_test, y_pred, target_names=['Poor', 'Moderate', 'Good']))\n",
        "\n",
        "# Plot confusion matrix\n",
        "cm = confusion_matrix(y_test, y_pred)\n",
        "plt.figure(figsize=(8, 6))\n",
        "sns.heatmap(cm, annot=True, fmt='d', cmap='Blues',\n",
        "            xticklabels=['Poor', 'Moderate', 'Good'],\n",
        "            yticklabels=['Poor', 'Moderate', 'Good'])\n",
        "plt.title('Confusion Matrix After Balancing')\n",
        "plt.xlabel('Predicted')\n",
        "plt.ylabel('Actual')\n",
        "plt.show()"
      ],
      "metadata": {
        "colab": {
          "base_uri": "https://localhost:8080/",
          "height": 755
        },
        "id": "pr30E7ltB3lg",
        "outputId": "3efa23f3-cd36-4446-fa9f-940ed69ca79f"
      },
      "execution_count": null,
      "outputs": [
        {
          "output_type": "stream",
          "name": "stdout",
          "text": [
            "Classification Report After Balancing:\n",
            "              precision    recall  f1-score   support\n",
            "\n",
            "        Poor       0.83      0.45      0.59        11\n",
            "    Moderate       0.80      0.97      0.88       157\n",
            "        Good       1.00      0.95      0.97       632\n",
            "\n",
            "    accuracy                           0.95       800\n",
            "   macro avg       0.88      0.79      0.81       800\n",
            "weighted avg       0.95      0.95      0.95       800\n",
            "\n"
          ]
        },
        {
          "output_type": "display_data",
          "data": {
            "text/plain": [
              "<Figure size 800x600 with 2 Axes>"
            ],
            "image/png": "[encoded data removed]"
          },
          "metadata": {}
        }
      ]
    },
    {
      "cell_type": "markdown",
      "source": [
        "Step 16: Update the Prediction Function (Optional)"
      ],
      "metadata": {
        "id": "HjchrbQsWURn"
      }
    },
    {
      "cell_type": "code",
      "source": [
        "import joblib\n",
        "import pandas as pd\n",
        "\n",
        "# Load the updated model and scaler\n",
        "model = joblib.load('soil_quality_model_balanced.pkl')  # or 'soil_quality_model_adjusted.pkl'\n",
        "scaler = joblib.load('scaler_balanced.pkl')  # or 'scaler_adjusted.pkl'\n",
        "\n",
        "# Rest of the predict_soil_quality_enhanced function remains the same\n",
        "def predict_soil_quality_enhanced(sample_data):\n",
        "    feature_order = [\n",
        "        'Sand %', 'Clay %', 'Silt %', 'pH', 'EC mS/cm', 'O.M. %', 'CACO3 %',\n",
        "        'N_NO3 ppm', 'P ppm', 'K ppm ', 'Mg ppm', 'Fe ppm', 'Zn ppm', 'Mn ppm',\n",
        "        'Cu ppm', 'B ppm'\n",
        "    ]\n",
        "    if isinstance(sample_data, dict):\n",
        "        sample_df = pd.DataFrame([sample_data])\n",
        "    elif isinstance(sample_data, list):\n",
        "        sample_df = pd.DataFrame([sample_data], columns=feature_order)\n",
        "    else:\n",
        "        raise ValueError(\"Input must be a dict or list with 16 features.\")\n",
        "    if not all(feat in sample_df.columns for feat in feature_order):\n",
        "        raise ValueError(\"Input must contain all 16 features in the correct order.\")\n",
        "    sample_df = sample_df[feature_order]\n",
        "    sample_scaled = scaler.transform(sample_df)\n",
        "    prediction = model.predict(sample_scaled)[0]\n",
        "    quality_map = {0: \"Poor\", 1: \"Moderate\", 2: \"Good\"}\n",
        "    quality = quality_map[prediction]\n",
        "    reasons = []\n",
        "    recommendations = []\n",
        "    sample = sample_df.iloc[0]\n",
        "    if sample['pH'] < 5.5:\n",
        "        reasons.append(\"Soil too acidic (low pH)\")\n",
        "        recommendations.append(\"Apply lime to raise pH\")\n",
        "    elif sample['pH'] > 8.0:\n",
        "        reasons.append(\"Soil too alkaline (high pH)\")\n",
        "        recommendations.append(\"Add sulfur or organic matter to lower pH\")\n",
        "    if sample['EC mS/cm'] > 2.0:\n",
        "        reasons.append(\"High salinity (elevated EC)\")\n",
        "        recommendations.append(\"Leach salts with irrigation or improve drainage\")\n",
        "    if sample['O.M. %'] < 1.0:\n",
        "        reasons.append(\"Low organic matter\")\n",
        "        recommendations.append(\"Add compost or manure to increase organic matter\")\n",
        "    if sample['N_NO3 ppm'] < 5.0:\n",
        "        reasons.append(\"Nitrogen deficiency\")\n",
        "        recommendations.append(\"Apply nitrogen fertilizer (e.g., urea)\")\n",
        "    if sample['P ppm'] < 5.0:\n",
        "        reasons.append(\"Phosphorus deficiency\")\n",
        "        recommendations.append(\"Apply phosphorus fertilizer (e.g., superphosphate)\")\n",
        "    if sample['K ppm '] < 100.0:\n",
        "        reasons.append(\"Potassium deficiency\")\n",
        "        recommendations.append(\"Apply potassium fertilizer (e.g., potash)\")\n",
        "    if sample['Sand %'] > 70.0:\n",
        "        reasons.append(\"Excessively sandy soil (poor nutrient retention)\")\n",
        "        recommendations.append(\"Add organic matter to improve water and nutrient holding capacity\")\n",
        "    if quality == \"Good\" and not reasons:\n",
        "        reasons.append(\"No significant issues detected\")\n",
        "        recommendations.append(\"Maintain current soil management practices\")\n",
        "    return {\n",
        "        \"Soil Quality\": quality,\n",
        "        \"Reasons\": reasons,\n",
        "        \"Recommendations\": recommendations\n",
        "    }\n",
        "\n",
        "# Test with a sample\n",
        "new_sample = {\n",
        "    'Sand %': 58.0, 'Clay %': 20.0, 'Silt %': 22.0, 'pH': 7.7, 'EC mS/cm': 0.4,\n",
        "    'O.M. %': 0.7, 'CACO3 %': 6.0, 'N_NO3 ppm': 4.2, 'P ppm': 6.3, 'K ppm ': 116.0,\n",
        "    'Mg ppm': 986.0, 'Fe ppm': 12.5, 'Zn ppm': 0.6, 'Mn ppm': 12.5, 'Cu ppm': 0.9,\n",
        "    'B ppm': 0.2\n",
        "}\n",
        "result = predict_soil_quality_enhanced(new_sample)\n",
        "print(\"Soil Analysis Result:\")\n",
        "for key, value in result.items():\n",
        "    print(f\"{key}: {value}\")"
      ],
      "metadata": {
        "colab": {
          "base_uri": "https://localhost:8080/"
        },
        "id": "4XQD-B55VU9m",
        "outputId": "724a6f21-9067-4b12-b5af-d422ccda8d54"
      },
      "execution_count": null,
      "outputs": [
        {
          "output_type": "stream",
          "name": "stdout",
          "text": [
            "Soil Analysis Result:\n",
            "Soil Quality: Moderate\n",
            "Reasons: ['Low organic matter', 'Nitrogen deficiency']\n",
            "Recommendations: ['Add compost or manure to increase organic matter', 'Apply nitrogen fertilizer (e.g., urea)']\n"
          ]
        }
      ]
    },
    {
      "cell_type": "markdown",
      "source": [
        "Step 17: Accuracy Test"
      ],
      "metadata": {
        "id": "FlVwP_GMXML9"
      }
    },
    {
      "cell_type": "code",
      "source": [
        "from sklearn.metrics import accuracy_score\n",
        "\n",
        "# Assuming 'model', 'X_test', and 'y_test' are available from previous steps\n",
        "# If not, ensure Steps 1-6 (or 8) are run first\n",
        "\n",
        "# Make predictions on the test set\n",
        "y_pred = model.predict(X_test)\n",
        "\n",
        "# Calculate accuracy as a decimal (0 to 1)\n",
        "accuracy = accuracy_score(y_test, y_pred)\n",
        "\n",
        "# Convert to percentage\n",
        "accuracy_percentage = accuracy * 100\n",
        "\n",
        "# Display the result\n",
        "print(f\"Model Accuracy on Test Set: {accuracy_percentage:.2f}%\")"
      ],
      "metadata": {
        "colab": {
          "base_uri": "https://localhost:8080/"
        },
        "id": "7rKFY8rhWdQl",
        "outputId": "7878395f-9b77-403f-bbd6-c5713053df84"
      },
      "execution_count": null,
      "outputs": [
        {
          "output_type": "stream",
          "name": "stdout",
          "text": [
            "Model Accuracy on Test Set: 94.62%\n"
          ]
        }
      ]
    }
  ]
}